{
 "cells": [
  {
   "cell_type": "code",
   "execution_count": 1,
   "metadata": {},
   "outputs": [],
   "source": [
    "import pandas as pd\n",
    "import matplotlib.pyplot as plt\n",
    "import seaborn as sns\n",
    "from sklearn.preprocessing import MinMaxScaler"
   ]
  },
  {
   "attachments": {},
   "cell_type": "markdown",
   "metadata": {},
   "source": [
    "### Google-Playstore dataset cleansing"
   ]
  },
  {
   "cell_type": "code",
   "execution_count": null,
   "metadata": {},
   "outputs": [],
   "source": [
    "data=pd.read_csv('dataset/Google-Playstore.csv')"
   ]
  },
  {
   "cell_type": "code",
   "execution_count": null,
   "metadata": {},
   "outputs": [
    {
     "data": {
      "text/html": [
       "<div>\n",
       "<style scoped>\n",
       "    .dataframe tbody tr th:only-of-type {\n",
       "        vertical-align: middle;\n",
       "    }\n",
       "\n",
       "    .dataframe tbody tr th {\n",
       "        vertical-align: top;\n",
       "    }\n",
       "\n",
       "    .dataframe thead th {\n",
       "        text-align: right;\n",
       "    }\n",
       "</style>\n",
       "<table border=\"1\" class=\"dataframe\">\n",
       "  <thead>\n",
       "    <tr style=\"text-align: right;\">\n",
       "      <th></th>\n",
       "      <th>App Name</th>\n",
       "      <th>Category</th>\n",
       "      <th>Rating</th>\n",
       "      <th>Rating Count</th>\n",
       "      <th>Ad Supported</th>\n",
       "      <th>In App Purchases</th>\n",
       "      <th>Maximum Installs</th>\n",
       "      <th>Size</th>\n",
       "      <th>Released</th>\n",
       "      <th>Price</th>\n",
       "    </tr>\n",
       "  </thead>\n",
       "  <tbody>\n",
       "    <tr>\n",
       "      <th>0</th>\n",
       "      <td>Gakondo</td>\n",
       "      <td>Adventure</td>\n",
       "      <td>0.0</td>\n",
       "      <td>0.0</td>\n",
       "      <td>False</td>\n",
       "      <td>False</td>\n",
       "      <td>15</td>\n",
       "      <td>10M</td>\n",
       "      <td>Feb 26, 2020</td>\n",
       "      <td>0.0</td>\n",
       "    </tr>\n",
       "  </tbody>\n",
       "</table>\n",
       "</div>"
      ],
      "text/plain": [
       "  App Name   Category  Rating  Rating Count  Ad Supported  In App Purchases  \\\n",
       "0  Gakondo  Adventure     0.0           0.0         False             False   \n",
       "\n",
       "   Maximum Installs Size      Released  Price  \n",
       "0                15  10M  Feb 26, 2020    0.0  "
      ]
     },
     "execution_count": 49,
     "metadata": {},
     "output_type": "execute_result"
    }
   ],
   "source": [
    "columns = ['App Name', 'Category', 'Rating', \n",
    "'Rating Count', 'Ad Supported', 'In App Purchases', \n",
    "'Maximum Installs', 'Size', 'Released', 'Price']\n",
    "\n",
    "g_zero = data.loc[:, columns]\n",
    "g_zero.head(1)"
   ]
  },
  {
   "cell_type": "code",
   "execution_count": null,
   "metadata": {},
   "outputs": [
    {
     "data": {
      "text/html": [
       "<div>\n",
       "<style scoped>\n",
       "    .dataframe tbody tr th:only-of-type {\n",
       "        vertical-align: middle;\n",
       "    }\n",
       "\n",
       "    .dataframe tbody tr th {\n",
       "        vertical-align: top;\n",
       "    }\n",
       "\n",
       "    .dataframe thead th {\n",
       "        text-align: right;\n",
       "    }\n",
       "</style>\n",
       "<table border=\"1\" class=\"dataframe\">\n",
       "  <thead>\n",
       "    <tr style=\"text-align: right;\">\n",
       "      <th></th>\n",
       "      <th>missing_value</th>\n",
       "      <th>percent_missing</th>\n",
       "    </tr>\n",
       "  </thead>\n",
       "  <tbody>\n",
       "    <tr>\n",
       "      <th>App Name</th>\n",
       "      <td>2</td>\n",
       "      <td>0.000086</td>\n",
       "    </tr>\n",
       "    <tr>\n",
       "      <th>Category</th>\n",
       "      <td>0</td>\n",
       "      <td>0.000000</td>\n",
       "    </tr>\n",
       "    <tr>\n",
       "      <th>Rating</th>\n",
       "      <td>22883</td>\n",
       "      <td>0.989345</td>\n",
       "    </tr>\n",
       "    <tr>\n",
       "      <th>Rating Count</th>\n",
       "      <td>22883</td>\n",
       "      <td>0.989345</td>\n",
       "    </tr>\n",
       "    <tr>\n",
       "      <th>Ad Supported</th>\n",
       "      <td>0</td>\n",
       "      <td>0.000000</td>\n",
       "    </tr>\n",
       "    <tr>\n",
       "      <th>In App Purchases</th>\n",
       "      <td>0</td>\n",
       "      <td>0.000000</td>\n",
       "    </tr>\n",
       "    <tr>\n",
       "      <th>Maximum Installs</th>\n",
       "      <td>0</td>\n",
       "      <td>0.000000</td>\n",
       "    </tr>\n",
       "    <tr>\n",
       "      <th>Size</th>\n",
       "      <td>196</td>\n",
       "      <td>0.008474</td>\n",
       "    </tr>\n",
       "    <tr>\n",
       "      <th>Released</th>\n",
       "      <td>71053</td>\n",
       "      <td>3.071972</td>\n",
       "    </tr>\n",
       "    <tr>\n",
       "      <th>Price</th>\n",
       "      <td>0</td>\n",
       "      <td>0.000000</td>\n",
       "    </tr>\n",
       "  </tbody>\n",
       "</table>\n",
       "</div>"
      ],
      "text/plain": [
       "                  missing_value  percent_missing\n",
       "App Name                      2         0.000086\n",
       "Category                      0         0.000000\n",
       "Rating                    22883         0.989345\n",
       "Rating Count              22883         0.989345\n",
       "Ad Supported                  0         0.000000\n",
       "In App Purchases              0         0.000000\n",
       "Maximum Installs              0         0.000000\n",
       "Size                        196         0.008474\n",
       "Released                  71053         3.071972\n",
       "Price                         0         0.000000"
      ]
     },
     "execution_count": 50,
     "metadata": {},
     "output_type": "execute_result"
    }
   ],
   "source": [
    "missing_value=g_zero.isnull().sum()\n",
    "percent_missing = g_zero.isnull().sum()/g_zero.shape[0]*100\n",
    "\n",
    "value = {\n",
    "    'missing_value': missing_value,\n",
    "    'percent_missing': percent_missing\n",
    "}\n",
    "\n",
    "frame = pd.DataFrame(value)\n",
    "frame"
   ]
  },
  {
   "cell_type": "code",
   "execution_count": null,
   "metadata": {},
   "outputs": [
    {
     "data": {
      "text/html": [
       "<div>\n",
       "<style scoped>\n",
       "    .dataframe tbody tr th:only-of-type {\n",
       "        vertical-align: middle;\n",
       "    }\n",
       "\n",
       "    .dataframe tbody tr th {\n",
       "        vertical-align: top;\n",
       "    }\n",
       "\n",
       "    .dataframe thead th {\n",
       "        text-align: right;\n",
       "    }\n",
       "</style>\n",
       "<table border=\"1\" class=\"dataframe\">\n",
       "  <thead>\n",
       "    <tr style=\"text-align: right;\">\n",
       "      <th></th>\n",
       "      <th>missing_value</th>\n",
       "      <th>percent_missing</th>\n",
       "    </tr>\n",
       "  </thead>\n",
       "  <tbody>\n",
       "    <tr>\n",
       "      <th>App Name</th>\n",
       "      <td>0</td>\n",
       "      <td>0.0</td>\n",
       "    </tr>\n",
       "    <tr>\n",
       "      <th>Category</th>\n",
       "      <td>0</td>\n",
       "      <td>0.0</td>\n",
       "    </tr>\n",
       "    <tr>\n",
       "      <th>Rating</th>\n",
       "      <td>0</td>\n",
       "      <td>0.0</td>\n",
       "    </tr>\n",
       "    <tr>\n",
       "      <th>Rating Count</th>\n",
       "      <td>0</td>\n",
       "      <td>0.0</td>\n",
       "    </tr>\n",
       "    <tr>\n",
       "      <th>Ad Supported</th>\n",
       "      <td>0</td>\n",
       "      <td>0.0</td>\n",
       "    </tr>\n",
       "    <tr>\n",
       "      <th>In App Purchases</th>\n",
       "      <td>0</td>\n",
       "      <td>0.0</td>\n",
       "    </tr>\n",
       "    <tr>\n",
       "      <th>Maximum Installs</th>\n",
       "      <td>0</td>\n",
       "      <td>0.0</td>\n",
       "    </tr>\n",
       "    <tr>\n",
       "      <th>Size</th>\n",
       "      <td>0</td>\n",
       "      <td>0.0</td>\n",
       "    </tr>\n",
       "    <tr>\n",
       "      <th>Released</th>\n",
       "      <td>0</td>\n",
       "      <td>0.0</td>\n",
       "    </tr>\n",
       "    <tr>\n",
       "      <th>Price</th>\n",
       "      <td>0</td>\n",
       "      <td>0.0</td>\n",
       "    </tr>\n",
       "  </tbody>\n",
       "</table>\n",
       "</div>"
      ],
      "text/plain": [
       "                  missing_value  percent_missing\n",
       "App Name                      0              0.0\n",
       "Category                      0              0.0\n",
       "Rating                        0              0.0\n",
       "Rating Count                  0              0.0\n",
       "Ad Supported                  0              0.0\n",
       "In App Purchases              0              0.0\n",
       "Maximum Installs              0              0.0\n",
       "Size                          0              0.0\n",
       "Released                      0              0.0\n",
       "Price                         0              0.0"
      ]
     },
     "execution_count": 51,
     "metadata": {},
     "output_type": "execute_result"
    }
   ],
   "source": [
    "g_one = g_zero.loc[:, :].dropna()\n",
    "missing_value=g_one.isnull().sum()\n",
    "percent_missing = g_one.isnull().sum()/g_one.shape[0]*100\n",
    "\n",
    "value = {\n",
    "    'missing_value': missing_value,\n",
    "    'percent_missing': percent_missing\n",
    "}\n",
    "\n",
    "frame = pd.DataFrame(value)\n",
    "frame"
   ]
  },
  {
   "attachments": {},
   "cell_type": "markdown",
   "metadata": {},
   "source": [
    "g_one mantengo i dati puliti, mentre g_zero, mantengo i dati \"sporchi\""
   ]
  },
  {
   "cell_type": "code",
   "execution_count": null,
   "metadata": {},
   "outputs": [],
   "source": [
    "def rewrite_byte_size(data):\n",
    "    if \",\" in data:\n",
    "        data = data.replace(\",\",\"\")\n",
    "    if \"M\" in data:\n",
    "        return data.replace(\"M\", \"e6\")\n",
    "    elif \"G\" in data:\n",
    "        return data.replace(\"G\", \"e9\")\n",
    "    elif \"K\" in data:\n",
    "        return data.replace(\"K\", \"e3\")\n",
    "    elif \"k\" in data:\n",
    "        return data.replace(\"k\", \"e3\")\n",
    "    elif 'Varies with device' == data:\n",
    "        return data.replace(data, \"5e6\")\n",
    "    else:\n",
    "        return data"
   ]
  },
  {
   "attachments": {},
   "cell_type": "markdown",
   "metadata": {},
   "source": [
    "Esempio di funzionamento di rewrite_byte_size"
   ]
  },
  {
   "cell_type": "code",
   "execution_count": null,
   "metadata": {},
   "outputs": [
    {
     "name": "stdout",
     "output_type": "stream",
     "text": [
      "0    1.K\n",
      "1     aM\n",
      "2     3G\n",
      "dtype: object\n",
      "0    1.e3\n",
      "1     ae6\n",
      "2     3e9\n",
      "dtype: object\n"
     ]
    }
   ],
   "source": [
    "l = pd.Series(['1.K','aM','3G'])\n",
    "print(l)\n",
    "\n",
    "l = l.apply(rewrite_byte_size)\n",
    "print(l)\n"
   ]
  },
  {
   "attachments": {},
   "cell_type": "markdown",
   "metadata": {},
   "source": [
    "Cambiamo valori alfanumerici in numerici"
   ]
  },
  {
   "cell_type": "code",
   "execution_count": null,
   "metadata": {},
   "outputs": [
    {
     "data": {
      "text/plain": [
       "0      10e6\n",
       "1     2.9e6\n",
       "2     3.7e6\n",
       "3     1.8e6\n",
       "4     6.2e6\n",
       "5      46e6\n",
       "6     2.5e6\n",
       "7      16e6\n",
       "9     3.5e6\n",
       "10     51e6\n",
       "Name: Size, dtype: object"
      ]
     },
     "execution_count": 54,
     "metadata": {},
     "output_type": "execute_result"
    }
   ],
   "source": [
    "pd.options.mode.chained_assignment = None\n",
    "g_one['Size'] = g_one['Size'].map(rewrite_byte_size)\n",
    "g_one.Size.head(10)"
   ]
  },
  {
   "cell_type": "code",
   "execution_count": null,
   "metadata": {},
   "outputs": [
    {
     "name": "stdout",
     "output_type": "stream",
     "text": [
      "object\n",
      "float64\n"
     ]
    }
   ],
   "source": [
    "print(g_one['Size'].dtypes)\n",
    "g_one['Size'] = g_one['Size'].astype(float)\n",
    "print(g_one['Size'].dtypes)"
   ]
  },
  {
   "attachments": {},
   "cell_type": "markdown",
   "metadata": {},
   "source": [
    "Reformattare le date in datatime, e poi in dati ordinali"
   ]
  },
  {
   "cell_type": "code",
   "execution_count": null,
   "metadata": {},
   "outputs": [
    {
     "data": {
      "text/plain": [
       "0    2020-02-26\n",
       "1    2020-05-21\n",
       "2    2019-08-09\n",
       "3    2018-09-10\n",
       "4    2020-02-21\n",
       "5    2018-12-24\n",
       "6    2019-09-23\n",
       "7    2019-06-21\n",
       "9    2019-09-22\n",
       "10   2020-07-30\n",
       "Name: Released, dtype: datetime64[ns]"
      ]
     },
     "execution_count": 56,
     "metadata": {},
     "output_type": "execute_result"
    }
   ],
   "source": [
    "g_one['Released'] = pd.to_datetime(g_one['Released'], format='%b %d, %Y')\n",
    "g_one['Released'].head(10)"
   ]
  },
  {
   "cell_type": "code",
   "execution_count": null,
   "metadata": {},
   "outputs": [
    {
     "data": {
      "text/plain": [
       "0     737481\n",
       "1     737566\n",
       "2     737280\n",
       "3     736947\n",
       "4     737476\n",
       "5     737052\n",
       "6     737325\n",
       "7     737231\n",
       "9     737324\n",
       "10    737636\n",
       "Name: Released, dtype: int64"
      ]
     },
     "execution_count": 57,
     "metadata": {},
     "output_type": "execute_result"
    }
   ],
   "source": [
    "import datetime as dt\n",
    "g_one['Released'] = g_one['Released'].map(dt.datetime.toordinal)\n",
    "g_one['Released'].head(10)"
   ]
  },
  {
   "cell_type": "code",
   "execution_count": null,
   "metadata": {},
   "outputs": [
    {
     "name": "stdout",
     "output_type": "stream",
     "text": [
      "int64\n"
     ]
    }
   ],
   "source": [
    "g_one.rename(columns={'Maximum Installs': 'Installs'}, inplace=True)\n",
    "print(g_one['Installs'].dtypes)"
   ]
  },
  {
   "attachments": {},
   "cell_type": "markdown",
   "metadata": {},
   "source": [
    "Le categorie sono troppe per essere visualizzate neglis step successivi, andiamo a quindi a ragrupparle in macro-categorie"
   ]
  },
  {
   "cell_type": "code",
   "execution_count": null,
   "metadata": {},
   "outputs": [],
   "source": [
    "Education=['Education','Books & Reference','News & Magazines','Educational',\n",
    "           'Art & Design','Word','Libraries & Demo','Parenting']\n",
    "Tools=['Tools','Trivia','Personalization','Photography','Maps & Navigation',\n",
    "       'Video Players & Editors','Weather','Communication','Finance','Business','Events']\n",
    "Entertainment=['Entertainment','Music & Audio','Arcade','Puzzle','Casual','Action',\n",
    "               'Simulation','Adventure','Auto & Vehicles','Board','Racing',\n",
    "               'Role Playing','Strategy','Card','Casino','Music','Comics']\n",
    "Lifestyle=['Lifestyle','Health & Fitness','Productivity','Shopping','Food & Drink',\n",
    "           'Travel & Local','Sports','Medical','House & Home','Beauty','Dating','Social']"
   ]
  },
  {
   "cell_type": "code",
   "execution_count": null,
   "metadata": {},
   "outputs": [],
   "source": [
    "def standardize_words(series, words_to_replace, replacement):\n",
    "    return series.map(lambda x: x.replace(x, replacement) if x in words_to_replace else x)"
   ]
  },
  {
   "cell_type": "code",
   "execution_count": null,
   "metadata": {},
   "outputs": [],
   "source": [
    "g_one.Category = standardize_words(g_one.Category, Education, 'Education')\n",
    "g_one.Category = standardize_words(g_one.Category, Tools, 'Tools')\n",
    "g_one.Category = standardize_words(g_one.Category, Entertainment, 'Entertainment')\n",
    "g_one.Category = standardize_words(g_one.Category, Lifestyle, 'Lifestyle')"
   ]
  },
  {
   "cell_type": "code",
   "execution_count": null,
   "metadata": {},
   "outputs": [
    {
     "name": "stdout",
     "output_type": "stream",
     "text": [
      "App Name             object\n",
      "Category             object\n",
      "Rating              float64\n",
      "Rating Count          int64\n",
      "Ad Supported          int64\n",
      "In App Purchases      int64\n",
      "Installs              int64\n",
      "Size                float64\n",
      "Released              int64\n",
      "Price               float64\n",
      "dtype: object\n"
     ]
    }
   ],
   "source": [
    "g_one['Ad Supported'] = g_one['Ad Supported'].astype(int)\n",
    "g_one['In App Purchases'] = g_one['In App Purchases'].astype(int)\n",
    "g_one['Rating Count'] = g_one['Rating Count'].astype(int)\n",
    "g_one['Installs'] = g_one['Installs'].astype(int)\n",
    "print(g_one.dtypes)"
   ]
  },
  {
   "attachments": {},
   "cell_type": "markdown",
   "metadata": {},
   "source": [
    "Indice di apprezzamento = rating x rating count"
   ]
  },
  {
   "cell_type": "code",
   "execution_count": null,
   "metadata": {},
   "outputs": [],
   "source": [
    "g_junk = g_one.copy()\n",
    "g_one.drop(g_one[g_one['Installs']<10].index, inplace=True)\n",
    "g_one.drop(g_one[g_one['Rating Count'] == 0].index, inplace=True)"
   ]
  },
  {
   "cell_type": "code",
   "execution_count": null,
   "metadata": {},
   "outputs": [],
   "source": [
    "columns = ['Rating', 'Rating Count']\n",
    "scaler = MinMaxScaler(feature_range=(0, 1e4))\n",
    "scaled_data = scaler.fit_transform(g_one[columns])\n",
    "g_one['Appreciation Index'] = scaled_data[:,0] * scaled_data[:,1]"
   ]
  },
  {
   "cell_type": "code",
   "execution_count": null,
   "metadata": {},
   "outputs": [],
   "source": [
    "scaler = MinMaxScaler(feature_range=(0, 1e4))\n",
    "scaled_data = scaler.fit_transform(g_junk[columns])\n",
    "g_junk['Appreciation Index'] = scaled_data[:,0] * scaled_data[:,1]\n"
   ]
  },
  {
   "attachments": {},
   "cell_type": "markdown",
   "metadata": {},
   "source": [
    "Categorie e percentuali"
   ]
  },
  {
   "cell_type": "code",
   "execution_count": null,
   "metadata": {},
   "outputs": [
    {
     "name": "stdout",
     "output_type": "stream",
     "text": [
      "Category\n",
      "Education        249073\n",
      "Entertainment    356054\n",
      "Lifestyle        284321\n",
      "Tools            313182\n",
      "Name: Category, dtype: int64\n",
      "Category\n",
      "Education        20.710692\n",
      "Entertainment    29.606280\n",
      "Lifestyle        23.641602\n",
      "Tools            26.041426\n",
      "Name: Category, dtype: float64\n"
     ]
    }
   ],
   "source": [
    "category_count = g_one.groupby('Category')['Category'].count()\n",
    "category_percentages = category_count.transform(lambda x: 100 * x / x.sum())\n",
    "print(category_count)\n",
    "print(category_percentages)"
   ]
  },
  {
   "cell_type": "code",
   "execution_count": null,
   "metadata": {},
   "outputs": [
    {
     "name": "stdout",
     "output_type": "stream",
     "text": [
      "App Name                   object\n",
      "Rating                    float64\n",
      "Rating Count                int64\n",
      "Ad Supported                int64\n",
      "In App Purchases            int64\n",
      "Installs                    int64\n",
      "Size                      float64\n",
      "Released                    int64\n",
      "Price                     float64\n",
      "Appreciation Index        float64\n",
      "Category_Education          uint8\n",
      "Category_Entertainment      uint8\n",
      "Category_Lifestyle          uint8\n",
      "Category_Tools              uint8\n",
      "dtype: object\n"
     ]
    }
   ],
   "source": [
    "g_dummies = pd.get_dummies(g_one['Category'], prefix='Category')\n",
    "g_columns = g_one.columns[g_one.columns != 'Category']\n",
    "g_two = pd.concat([g_one[g_columns], g_dummies], axis=1)\n",
    "print(g_two.dtypes)"
   ]
  },
  {
   "cell_type": "code",
   "execution_count": null,
   "metadata": {},
   "outputs": [
    {
     "name": "stdout",
     "output_type": "stream",
     "text": [
      "App Name                   object\n",
      "Rating                    float64\n",
      "Rating Count                int64\n",
      "Ad Supported                int64\n",
      "In App Purchases            int64\n",
      "Installs                    int64\n",
      "Size                      float64\n",
      "Released                    int64\n",
      "Price                     float64\n",
      "Appreciation Index        float64\n",
      "Category_Education          uint8\n",
      "Category_Entertainment      uint8\n",
      "Category_Lifestyle          uint8\n",
      "Category_Tools              uint8\n",
      "dtype: object\n"
     ]
    }
   ],
   "source": [
    "g_dummies = pd.get_dummies(g_junk['Category'], prefix='Category')\n",
    "g_columns = g_junk.columns[g_junk.columns != 'Category']\n",
    "g_junk = pd.concat([g_junk[g_columns], g_dummies], axis=1)\n",
    "print(g_two.dtypes)"
   ]
  },
  {
   "cell_type": "code",
   "execution_count": null,
   "metadata": {},
   "outputs": [
    {
     "name": "stdout",
     "output_type": "stream",
     "text": [
      "Stored 'g_two' (DataFrame)\n",
      "Stored 'g_one' (DataFrame)\n",
      "Stored 'g_junk' (DataFrame)\n"
     ]
    }
   ],
   "source": [
    "%store g_two\n",
    "%store g_one\n",
    "%store g_junk"
   ]
  }
 ],
 "metadata": {
  "kernelspec": {
   "display_name": "base",
   "language": "python",
   "name": "python3"
  },
  "language_info": {
   "codemirror_mode": {
    "name": "ipython",
    "version": 3
   },
   "file_extension": ".py",
   "mimetype": "text/x-python",
   "name": "python",
   "nbconvert_exporter": "python",
   "pygments_lexer": "ipython3",
   "version": "3.9.13"
  },
  "orig_nbformat": 4,
  "vscode": {
   "interpreter": {
    "hash": "40d3a090f54c6569ab1632332b64b2c03c39dcf918b08424e98f38b5ae0af88f"
   }
  }
 },
 "nbformat": 4,
 "nbformat_minor": 2
}
